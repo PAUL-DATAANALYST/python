{
  "metadata": {
    "colab": {
      "private_outputs": true,
      "provenance": []
    },
    "kernelspec": {
      "name": "python",
      "display_name": "Python (Pyodide)",
      "language": "python"
    },
    "language_info": {
      "name": "python"
    }
  },
  "nbformat_minor": 4,
  "nbformat": 4,
  "cells": [
    {
      "cell_type": "code",
      "source": "#enumerate",
      "metadata": {
        "id": "FJTsy5gkAVV9"
      },
      "execution_count": null,
      "outputs": []
    },
    {
      "cell_type": "code",
      "source": "?enumerate",
      "metadata": {
        "id": "K0JGUrWoAeBx"
      },
      "execution_count": null,
      "outputs": []
    },
    {
      "cell_type": "code",
      "source": "list1=[1,2,3,4]",
      "metadata": {
        "id": "Ddcc7dDWAgLK"
      },
      "execution_count": null,
      "outputs": []
    },
    {
      "cell_type": "code",
      "source": "d=dict(enumerate(list1))",
      "metadata": {
        "id": "4RRGQQ0wA2ED"
      },
      "execution_count": null,
      "outputs": []
    },
    {
      "cell_type": "code",
      "source": "d.",
      "metadata": {
        "id": "f_wXa6XbA7Ek"
      },
      "execution_count": null,
      "outputs": []
    },
    {
      "cell_type": "code",
      "source": "d.keys()",
      "metadata": {
        "id": "yYEU-PyIBQxO"
      },
      "execution_count": null,
      "outputs": []
    },
    {
      "cell_type": "code",
      "source": "d.values()",
      "metadata": {
        "id": "26Tra6a4BSyx"
      },
      "execution_count": null,
      "outputs": []
    },
    {
      "cell_type": "code",
      "source": "d[0]",
      "metadata": {
        "id": "IzdCqizrBXCy"
      },
      "execution_count": null,
      "outputs": []
    },
    {
      "cell_type": "code",
      "source": "#dictionary comprehension\nsyntax:\n={key:value for (key,value) in iterable if condition}",
      "metadata": {
        "id": "HZn2r5UnBbQT"
      },
      "execution_count": null,
      "outputs": []
    },
    {
      "cell_type": "code",
      "source": "list1",
      "metadata": {
        "id": "pwpgRZdqB6e1"
      },
      "execution_count": null,
      "outputs": []
    },
    {
      "cell_type": "code",
      "source": "dic={}\nfor i in list1:\n    if i%2==0:\n        dic[i]=i*2\nprint(dic)",
      "metadata": {
        "id": "8ob6QmbtB9FF"
      },
      "execution_count": null,
      "outputs": []
    },
    {
      "cell_type": "code",
      "source": "d={i:i*2 for i in list1 if i%2==0}",
      "metadata": {
        "id": "qkn-IAnWCMMw"
      },
      "execution_count": null,
      "outputs": []
    },
    {
      "cell_type": "code",
      "source": "d",
      "metadata": {
        "id": "tGvXBXlnCfi8"
      },
      "execution_count": null,
      "outputs": []
    },
    {
      "cell_type": "code",
      "source": "a=[\"a\",\"b\"]\nb=[1,2]",
      "metadata": {
        "id": "WRoE_HBmCf8c"
      },
      "execution_count": null,
      "outputs": []
    },
    {
      "cell_type": "code",
      "source": "dict1={}\nfor key, value in zip(a,b):\n    dict1[key]=value\nprint(dict1)",
      "metadata": {
        "id": "bbjxZzJEC_ep"
      },
      "execution_count": null,
      "outputs": []
    },
    {
      "cell_type": "code",
      "source": "d1={key:value for (key, value) in zip(a,b)}",
      "metadata": {
        "id": "7cCnFCcoDXF-"
      },
      "execution_count": null,
      "outputs": []
    },
    {
      "cell_type": "code",
      "source": "d1",
      "metadata": {
        "id": "hr_ZSUuwDnM6"
      },
      "execution_count": null,
      "outputs": []
    },
    {
      "cell_type": "code",
      "source": "#generator comprehension\nsyntax:\n(expression for var in list if condition)",
      "metadata": {
        "id": "ts3jMx_jDoJY"
      },
      "execution_count": null,
      "outputs": []
    },
    {
      "cell_type": "code",
      "source": "list1",
      "metadata": {
        "id": "yxZR3fx4ERhG"
      },
      "execution_count": null,
      "outputs": []
    },
    {
      "cell_type": "code",
      "source": "g=(i*2 for i in list1)",
      "metadata": {
        "id": "GCHvH1EpEZdZ"
      },
      "execution_count": null,
      "outputs": []
    },
    {
      "cell_type": "code",
      "source": "g",
      "metadata": {
        "id": "VXwFKHiOEgHc"
      },
      "execution_count": null,
      "outputs": []
    },
    {
      "cell_type": "code",
      "source": "type(g)",
      "metadata": {
        "id": "-fCPaCFyEpej"
      },
      "execution_count": null,
      "outputs": []
    },
    {
      "cell_type": "code",
      "source": "for j in g:\n    print(j)",
      "metadata": {
        "id": "hBWKwsheEhSs"
      },
      "execution_count": null,
      "outputs": []
    },
    {
      "cell_type": "code",
      "source": "mylist = iter([\"apple\", \"banana\", \"cherry\"])\nx = next(mylist)\nprint(x)\nx = next(mylist)\nprint(x)\nx = next(mylist)\nprint(x)",
      "metadata": {
        "id": "72K0-LtEEnvw"
      },
      "execution_count": null,
      "outputs": []
    },
    {
      "cell_type": "code",
      "source": "#generator\n#we use yield keyword rather than\n",
      "metadata": {
        "id": "r_xEESrEGcZC"
      },
      "execution_count": null,
      "outputs": []
    },
    {
      "cell_type": "code",
      "source": "\"\"\"def function_name():\n    #statements\n    yield statements\"\"\"",
      "metadata": {
        "id": "PbO9ZEQFGvHm"
      },
      "execution_count": null,
      "outputs": []
    },
    {
      "cell_type": "code",
      "source": "def simplefun():\n    yield 1\n    yield 2\n    yield 3\n#driver code\nfor i in simplefun():\n    print(i)\n",
      "metadata": {
        "id": "dJ8rmO5xG9ns"
      },
      "execution_count": null,
      "outputs": []
    },
    {
      "cell_type": "code",
      "source": "def simplefun():\n    yield 1\n    yield 2\n    yield 3\n#driver code\na=simplefun()\nprint(next(a))\nprint(next(a))\nprint(next(a))",
      "metadata": {
        "id": "Ji8MvgfgHTGO"
      },
      "execution_count": null,
      "outputs": []
    },
    {
      "cell_type": "code",
      "source": "def fun1(a):\n    print(\"a\",a,id(a))\n    a=a+1#local variable\n    print(\"inside of after\", a, id(a))\na=10#global variable\nfun1(a)\nprint(\"after\",a,id(a))",
      "metadata": {
        "id": "2mFVRmT6Homk"
      },
      "execution_count": null,
      "outputs": []
    },
    {
      "cell_type": "code",
      "source": "b=10\ndef fun():\n    b=b+1\n    print(b)\nfun()",
      "metadata": {
        "id": "i7eT2nbALnPW"
      },
      "execution_count": null,
      "outputs": []
    },
    {
      "cell_type": "code",
      "source": "#b=10\ndef fun():\n    global b\n    b=b+1\n    print(b)\nb=10\nfun()\nprint(\"after calling\",b)",
      "metadata": {
        "id": "z-tw2kD3MQHy"
      },
      "execution_count": null,
      "outputs": []
    },
    {
      "cell_type": "code",
      "source": "def fun():\n    #global b\n    c=20\n    c=c+10\n    print(c)\nc=10\nfun()\nprint(\"after calling\",c)",
      "metadata": {
        "id": "-a3Vum9LMder"
      },
      "execution_count": null,
      "outputs": []
    },
    {
      "cell_type": "code",
      "source": "# i a m creating file which is module simply call it as .py\ndef add(a,b):\n    return a+b\ndef sub(a,b):\n    return a-b\n#save it in name module name",
      "metadata": {
        "id": "nE7zR4PWRH6b"
      },
      "execution_count": null,
      "outputs": []
    },
    {
      "cell_type": "code",
      "source": "from module_name import sub",
      "metadata": {
        "id": "dq6-KjkVSTrr"
      },
      "execution_count": null,
      "outputs": []
    },
    {
      "cell_type": "code",
      "source": "#new file\nimport module_name\nprint(module_name.add(2,3))",
      "metadata": {
        "id": "PRCSCD_WRf-s"
      },
      "execution_count": null,
      "outputs": []
    },
    {
      "cell_type": "code",
      "source": "import numpy as np",
      "metadata": {
        "id": "ToxJ_QG2R6_f"
      },
      "execution_count": null,
      "outputs": []
    },
    {
      "cell_type": "code",
      "source": "np.array([1,2,3,4])",
      "metadata": {
        "id": "ZBltLz7BR-4O"
      },
      "execution_count": null,
      "outputs": []
    },
    {
      "cell_type": "code",
      "source": "from numpy import array",
      "metadata": {
        "id": "K9Bbn7LpSiSr"
      },
      "execution_count": null,
      "outputs": []
    },
    {
      "cell_type": "code",
      "source": "def sum(a,b):\n    return a+b\nif __name__==\"__main__\":\n    print(sum(12,10))",
      "metadata": {
        "id": "0FHBNn4QUXR1"
      },
      "execution_count": null,
      "outputs": []
    },
    {
      "cell_type": "code",
      "source": "#map,N----->N\n#filter, splitting dataN-------->N-1\n#reduce,single output, N---->1",
      "metadata": {
        "id": "kIvu-vY2V_-U"
      },
      "execution_count": null,
      "outputs": []
    },
    {
      "cell_type": "code",
      "source": "l=[1,2,3,4]\nmultiply=list(map(lambda x:x*2,l))",
      "metadata": {
        "id": "2wy8GqiYWqc2"
      },
      "execution_count": null,
      "outputs": []
    },
    {
      "cell_type": "code",
      "source": "print(multiply)",
      "metadata": {
        "id": "DNmE6odMWsZY"
      },
      "execution_count": null,
      "outputs": []
    },
    {
      "cell_type": "code",
      "source": "l=[1,2,3,4]\nfilting =list(filter(lambda x:x%2==0,l))",
      "metadata": {
        "id": "EiKQucP0XPzh"
      },
      "execution_count": null,
      "outputs": []
    },
    {
      "cell_type": "code",
      "source": "print(filting)",
      "metadata": {
        "id": "5wHdD80IX7JX"
      },
      "execution_count": null,
      "outputs": []
    },
    {
      "cell_type": "code",
      "source": "import functools\nfilting =functools.reduce(lambda x,y:x+y,l)",
      "metadata": {
        "id": "DpiwKgVwYbXv"
      },
      "execution_count": null,
      "outputs": []
    },
    {
      "cell_type": "code",
      "source": "print(filting)",
      "metadata": {
        "id": "WW3D83TwY7CV"
      },
      "execution_count": null,
      "outputs": []
    },
    {
      "cell_type": "code",
      "source": "l",
      "metadata": {
        "id": "5wUo52dAad4i"
      },
      "execution_count": null,
      "outputs": []
    },
    {
      "cell_type": "code",
      "source": "def fun(a):\n    return a*2\nlist2=map(fun,l)\nprint(list(list2))",
      "metadata": {
        "id": "oekStNYZaf_t"
      },
      "execution_count": null,
      "outputs": []
    },
    {
      "cell_type": "code",
      "source": "def fun(a):\n    for i in l:\n        if i%2==0:\n    print(i)\nlist2=filter(fun,l)\nprint(list(list2))",
      "metadata": {
        "id": "Shpw6ZpYauTT"
      },
      "execution_count": null,
      "outputs": []
    },
    {
      "cell_type": "code",
      "source": "#using filter function with user defined function\nlis1=[1,2,3,4,5]       #inputlist\ndef even(x):           #defining function even\n    if x%2==0:\n        return True\n    else:\n        return False\nfiltered= list(filter(even,lis1))    #usinf filter function calling even function for every element in the list lis1 and storing in variable filtered as list\nprint(filtered)\n",
      "metadata": {
        "id": "SJ9RuxL9bG6i"
      },
      "execution_count": null,
      "outputs": []
    }
  ]
}